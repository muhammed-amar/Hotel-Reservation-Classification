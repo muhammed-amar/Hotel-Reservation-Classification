{
 "cells": [
  {
   "cell_type": "markdown",
   "id": "ec59d1a2",
   "metadata": {},
   "source": [
    "# Modeling"
   ]
  },
  {
   "cell_type": "markdown",
   "id": "1bf6bf84",
   "metadata": {},
   "source": [
    "### import libraries "
   ]
  },
  {
   "cell_type": "code",
   "execution_count": 1,
   "id": "7fd2caa7",
   "metadata": {},
   "outputs": [],
   "source": [
    "# Import the pandas library and alias it as pd\n",
    "import pandas as pd\n",
    "\n",
    "# Import the train_test_split module from scikit-learn to split the data into training and testing sets\n",
    "from sklearn.model_selection import train_test_split,GridSearchCV\n",
    "\n",
    "# Import the RandomForestClassifier model from scikit-learn\n",
    "from sklearn.ensemble import RandomForestClassifier\n",
    "\n",
    "# Import necessary modules for evaluating the model's performance\n",
    "from sklearn.metrics import accuracy_score, classification_report, confusion_matrix\n",
    "\n",
    "import pickle"
   ]
  },
  {
   "cell_type": "markdown",
   "id": "c2bc5459",
   "metadata": {},
   "source": [
    "### read data"
   ]
  },
  {
   "cell_type": "code",
   "execution_count": 2,
   "id": "e982d476",
   "metadata": {},
   "outputs": [],
   "source": [
    "# Read the CSV file into a DataFrame using pandas\n",
    "data = pd.read_csv(r\"C:\\Users\\moham\\OneDrive\\Documents\\my track\\Internships\\Cellula\\Modeling\\data.csv\")"
   ]
  },
  {
   "cell_type": "code",
   "execution_count": 3,
   "id": "3e58c870",
   "metadata": {},
   "outputs": [
    {
     "data": {
      "text/plain": [
       "Index([], dtype='object')"
      ]
     },
     "execution_count": 3,
     "metadata": {},
     "output_type": "execute_result"
    }
   ],
   "source": [
    "data.select_dtypes('object').columns"
   ]
  },
  {
   "cell_type": "markdown",
   "id": "e14815f1",
   "metadata": {},
   "source": [
    "### spliting data to ( X_train , X_test , Y_train , Y_test )"
   ]
  },
  {
   "cell_type": "code",
   "execution_count": 4,
   "id": "8cfbf93c",
   "metadata": {},
   "outputs": [],
   "source": [
    "# Extract features (X) by dropping the 'output' column\n",
    "X = data.drop('output', axis=1)\n",
    "\n",
    "# Extract target variable (Y) from the 'output' column\n",
    "Y = data['output']"
   ]
  },
  {
   "cell_type": "code",
   "execution_count": 5,
   "id": "e23b4332",
   "metadata": {},
   "outputs": [],
   "source": [
    "# Split the data into training and testing sets using train_test_split\n",
    "X_train, X_test, Y_train, Y_test = train_test_split(X, Y, test_size=0.2, stratify=Y, random_state=42)"
   ]
  },
  {
   "cell_type": "markdown",
   "id": "cd98ec78",
   "metadata": {},
   "source": [
    "### The model\n"
   ]
  },
  {
   "cell_type": "code",
   "execution_count": 6,
   "id": "2c358842",
   "metadata": {},
   "outputs": [],
   "source": [
    "# Create a RandomForestClassifier model\n",
    "model = RandomForestClassifier()"
   ]
  },
  {
   "cell_type": "code",
   "execution_count": 7,
   "id": "c84a63f8",
   "metadata": {},
   "outputs": [],
   "source": [
    "# Define hyperparameter grid for Grid Search with fewer values\n",
    "param_grid_rf = {\n",
    "    'n_estimators': [50, 100],\n",
    "    'criterion': ['gini', 'entropy'],\n",
    "    'max_depth': [None, 10],\n",
    "    'min_samples_split': [2, 5],\n",
    "    'min_samples_leaf': [1, 2]\n",
    "}\n",
    "\n",
    "# Set up Grid Search for Random Forest\n",
    "grid_search_rf = GridSearchCV(estimator=model, param_grid=param_grid_rf, scoring='accuracy', cv=5)\n",
    "\n",
    "# Fit Grid Search to training data\n",
    "grid_search_rf.fit(X_train, Y_train)\n",
    "\n",
    "# Get the best model from Grid Search\n",
    "best_model = grid_search_rf.best_estimator_"
   ]
  },
  {
   "cell_type": "code",
   "execution_count": 8,
   "id": "1eaadd73",
   "metadata": {},
   "outputs": [],
   "source": [
    "pickle.dump(best_model,open(\"model.pkl\",\"wb\"))"
   ]
  },
  {
   "cell_type": "markdown",
   "id": "a3a0d371",
   "metadata": {},
   "source": [
    "### Model Evaluation "
   ]
  },
  {
   "cell_type": "code",
   "execution_count": 9,
   "id": "6e84d379",
   "metadata": {},
   "outputs": [
    {
     "name": "stdout",
     "output_type": "stream",
     "text": [
      "Training Data Accuracy: 99.37%\n"
     ]
    }
   ],
   "source": [
    "# Make predictions on the training set using the trained model\n",
    "X_train_prediction = best_model.predict(X_train)\n",
    "\n",
    "# Calculate and print the accuracy on the training data\n",
    "training_data_accuracy = accuracy_score(X_train_prediction, Y_train)\n",
    "print(f'Training Data Accuracy: {training_data_accuracy:.2%}')"
   ]
  },
  {
   "cell_type": "code",
   "execution_count": 10,
   "id": "bab3f194",
   "metadata": {},
   "outputs": [
    {
     "name": "stdout",
     "output_type": "stream",
     "text": [
      "Test Data Accuracy: 89.39%\n",
      "\n",
      "\n",
      "Classification Report:\n",
      "               precision    recall  f1-score   support\n",
      "\n",
      "         0.0       0.77      0.85      0.81      1502\n",
      "         1.0       0.95      0.91      0.93      4183\n",
      "\n",
      "    accuracy                           0.89      5685\n",
      "   macro avg       0.86      0.88      0.87      5685\n",
      "weighted avg       0.90      0.89      0.90      5685\n",
      " \n",
      "\n",
      "Confusion Matrix:\n",
      " [[1282  220]\n",
      " [ 383 3800]] \n",
      "\n"
     ]
    }
   ],
   "source": [
    "# Make predictions on the test set using the trained model\n",
    "X_test_prediction = best_model.predict(X_test)\n",
    "\n",
    "# Calculate accuracy on the test data and print it\n",
    "test_data_accuracy = accuracy_score(X_test_prediction, Y_test)\n",
    "print(f'Test Data Accuracy: {test_data_accuracy:.2%}\\n\\n')\n",
    "\n",
    "# Print the classification report for the test data\n",
    "print('Classification Report:\\n', classification_report(X_test_prediction, Y_test), '\\n')\n",
    "\n",
    "# Print the confusion matrix for the test data\n",
    "print('Confusion Matrix:\\n', confusion_matrix(X_test_prediction, Y_test), '\\n')"
   ]
  },
  {
   "cell_type": "code",
   "execution_count": null,
   "id": "d5589ce5",
   "metadata": {},
   "outputs": [],
   "source": []
  }
 ],
 "metadata": {
  "kernelspec": {
   "display_name": "Python 3 (ipykernel)",
   "language": "python",
   "name": "python3"
  },
  "language_info": {
   "codemirror_mode": {
    "name": "ipython",
    "version": 3
   },
   "file_extension": ".py",
   "mimetype": "text/x-python",
   "name": "python",
   "nbconvert_exporter": "python",
   "pygments_lexer": "ipython3",
   "version": "3.11.5"
  }
 },
 "nbformat": 4,
 "nbformat_minor": 5
}
