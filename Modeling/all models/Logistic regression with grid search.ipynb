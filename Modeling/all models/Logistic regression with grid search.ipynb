{
 "cells": [
  {
   "cell_type": "markdown",
   "id": "ac95218a",
   "metadata": {},
   "source": [
    "# Modeling"
   ]
  },
  {
   "cell_type": "markdown",
   "id": "5179a9e8",
   "metadata": {},
   "source": [
    "### import libraries "
   ]
  },
  {
   "cell_type": "code",
   "execution_count": 1,
   "id": "cd4754f5",
   "metadata": {},
   "outputs": [],
   "source": [
    "# Import pandas with alias pd\n",
    "import pandas as pd\n",
    "\n",
    "# Import train_test_split for data splitting\n",
    "from sklearn.model_selection import train_test_split, GridSearchCV\n",
    "\n",
    "# Import Logistic Regression model\n",
    "from sklearn.linear_model import LogisticRegression\n",
    "\n",
    "# Import evaluation metrics for model performance\n",
    "from sklearn.metrics import accuracy_score, classification_report, confusion_matrix\n"
   ]
  },
  {
   "cell_type": "markdown",
   "id": "9b53a785",
   "metadata": {},
   "source": [
    "### read data"
   ]
  },
  {
   "cell_type": "code",
   "execution_count": 2,
   "id": "571e4269",
   "metadata": {},
   "outputs": [],
   "source": [
    "# Read the CSV file into a DataFrame using pandas\n",
    "data = pd.read_csv(r\"C:\\Users\\moham\\OneDrive\\Documents\\my track\\Internships\\Cellula\\Modeling\\data.csv\")\n"
   ]
  },
  {
   "cell_type": "code",
   "execution_count": 3,
   "id": "62956e9b",
   "metadata": {},
   "outputs": [
    {
     "data": {
      "text/plain": [
       "Index([], dtype='object')"
      ]
     },
     "execution_count": 3,
     "metadata": {},
     "output_type": "execute_result"
    }
   ],
   "source": [
    "data.select_dtypes('object').columns"
   ]
  },
  {
   "cell_type": "markdown",
   "id": "4c7c32ac",
   "metadata": {},
   "source": [
    "### spliting data to ( X_train , X_test , Y_train , Y_test )"
   ]
  },
  {
   "cell_type": "code",
   "execution_count": 4,
   "id": "b97aad2e",
   "metadata": {},
   "outputs": [],
   "source": [
    "# Extract features (X) by dropping the 'output' column\n",
    "X = data.drop('output', axis=1)\n",
    "\n",
    "# Extract target variable (Y) from the 'output' column\n",
    "Y = data['output']\n"
   ]
  },
  {
   "cell_type": "code",
   "execution_count": 5,
   "id": "54abdb1c",
   "metadata": {},
   "outputs": [],
   "source": [
    "X_train , X_test , Y_train , Y_test=train_test_split(X,Y,test_size=0.2,stratify=Y,random_state=42)"
   ]
  },
  {
   "cell_type": "markdown",
   "id": "db388c85",
   "metadata": {},
   "source": [
    "### The model\n"
   ]
  },
  {
   "cell_type": "code",
   "execution_count": 6,
   "id": "c7282862",
   "metadata": {},
   "outputs": [],
   "source": [
    "# Create a Logistic Regression model\n",
    "model = LogisticRegression()"
   ]
  },
  {
   "cell_type": "code",
   "execution_count": 7,
   "id": "1c00c40b",
   "metadata": {},
   "outputs": [],
   "source": [
    "# Train Logistic Regression with Grid Search\n",
    "\n",
    "# Define hyperparameter grid\n",
    "param_grid = {'C': [0.1, 1, 10, 100], 'penalty': ['l1', 'l2'], 'solver': ['liblinear']}\n",
    "\n",
    "# Set up Grid Search for Logistic Regression\n",
    "grid_search_lr = GridSearchCV(estimator=model, param_grid=param_grid, scoring='accuracy', cv=5)\n",
    "\n",
    "# Fit Grid Search to training data\n",
    "grid_search_lr.fit(X_train, Y_train)\n",
    "\n",
    "best_model = grid_search_lr.best_estimator_\n",
    "\n"
   ]
  },
  {
   "cell_type": "markdown",
   "id": "c410fca0",
   "metadata": {},
   "source": [
    "### Model Evaluation "
   ]
  },
  {
   "cell_type": "code",
   "execution_count": 8,
   "id": "5f51197b",
   "metadata": {},
   "outputs": [
    {
     "name": "stdout",
     "output_type": "stream",
     "text": [
      "Training Data Accuracy: 79.65%\n"
     ]
    }
   ],
   "source": [
    "# Make predictions on the training set using the trained model\n",
    "X_train_prediction = best_model.predict(X_train)\n",
    "\n",
    "# Calculate and print the accuracy on the training data\n",
    "training_data_accuracy = accuracy_score(X_train_prediction, Y_train)\n",
    "print(f'Training Data Accuracy: {training_data_accuracy:.2%}')"
   ]
  },
  {
   "cell_type": "code",
   "execution_count": 9,
   "id": "5a9dc815",
   "metadata": {},
   "outputs": [
    {
     "name": "stdout",
     "output_type": "stream",
     "text": [
      "Test Data Accuracy: 78.84%\n",
      "Classification Report:\n",
      "               precision    recall  f1-score   support\n",
      "\n",
      "         0.0       0.50      0.69      0.58      1208\n",
      "         1.0       0.91      0.81      0.86      4477\n",
      "\n",
      "    accuracy                           0.79      5685\n",
      "   macro avg       0.70      0.75      0.72      5685\n",
      "weighted avg       0.82      0.79      0.80      5685\n",
      "\n",
      "Confusion Matrix:\n",
      " [[ 835  373]\n",
      " [ 830 3647]]\n"
     ]
    }
   ],
   "source": [
    "# Make predictions using the best model\n",
    "Y_test_pred = best_model.predict(X_test)\n",
    "\n",
    "# Evaluate the model performance on the test set\n",
    "test_accuracy = accuracy_score(Y_test_pred, Y_test)\n",
    "print(f'Test Data Accuracy: {test_accuracy:.2%}')\n",
    "\n",
    "# Print the classification report\n",
    "print('Classification Report:\\n', classification_report(Y_test_pred, Y_test))\n",
    "\n",
    "# Print the confusion matrix\n",
    "print('Confusion Matrix:\\n', confusion_matrix(Y_test_pred, Y_test))"
   ]
  },
  {
   "cell_type": "code",
   "execution_count": null,
   "id": "b30f7737",
   "metadata": {},
   "outputs": [],
   "source": []
  }
 ],
 "metadata": {
  "kernelspec": {
   "display_name": "Python 3 (ipykernel)",
   "language": "python",
   "name": "python3"
  },
  "language_info": {
   "codemirror_mode": {
    "name": "ipython",
    "version": 3
   },
   "file_extension": ".py",
   "mimetype": "text/x-python",
   "name": "python",
   "nbconvert_exporter": "python",
   "pygments_lexer": "ipython3",
   "version": "3.11.5"
  }
 },
 "nbformat": 4,
 "nbformat_minor": 5
}
